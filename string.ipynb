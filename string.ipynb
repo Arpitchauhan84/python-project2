{
 "cells": [
  {
   "cell_type": "code",
   "execution_count": 4,
   "metadata": {},
   "outputs": [
    {
     "name": "stdout",
     "output_type": "stream",
     "text": [
      "AmnnnnrPOOmm\n"
     ]
    }
   ],
   "source": [
    "def StringChanges(s):\n",
    "    result = \"\"\n",
    "    prev_char = \"\"\n",
    "    i = 0\n",
    "    while i < len(s):\n",
    "        if s[i] == \"M\":\n",
    "            result += prev_char\n",
    "        elif s[i] == \"N\":\n",
    "            i += 1\n",
    "        else:\n",
    "            result += s[i]\n",
    "            prev_char = s[i]\n",
    "        i += 1\n",
    "    return result\n",
    "\n",
    "# Test the function\n",
    "input_string = \"AmnnMMrPOOmmNN\"\n",
    "output_string = StringChanges(input_string)\n",
    "print(output_string) \n"
   ]
  }
 ],
 "metadata": {
  "kernelspec": {
   "display_name": "Python 3",
   "language": "python",
   "name": "python3"
  },
  "language_info": {
   "codemirror_mode": {
    "name": "ipython",
    "version": 3
   },
   "file_extension": ".py",
   "mimetype": "text/x-python",
   "name": "python",
   "nbconvert_exporter": "python",
   "pygments_lexer": "ipython3",
   "version": "3.10.9"
  }
 },
 "nbformat": 4,
 "nbformat_minor": 2
}
